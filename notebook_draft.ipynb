{
 "cells": [
  {
   "cell_type": "markdown",
   "metadata": {},
   "source": [
    "## **Project 4. Student Performance**\n",
    "> **(Team 9) Mahind Rao, Rachel Schoen, Andrea Wu, Mahalel Peter**"
   ]
  },
  {
   "cell_type": "markdown",
   "metadata": {},
   "source": [
    "### I. **Introduction**\n",
    "* *   * * "
   ]
  },
  {
   "cell_type": "markdown",
   "metadata": {},
   "source": [
    "For this project, we sought to explore a means to analyze and predict student performance based off a multitude of different variables, including but not limited to: attendance, taking notes, reading frequency, transporation, scholarships, and even parental status.\n",
    "\n",
    "In other words:\n",
    "\n",
    "> **What are the key factors that influence the success of a student?**\n",
    "\n",
    "\n",
    "- How do students with additional work responsibilities fare academically compared to those without?\n",
    "- How does the type of accommodation affect students' study habits and performance?\n",
    "- How does discussion and group work influence students' interest and success in their courses?\n",
    "- Can we predict a student’s academic performance (e.g., grade point average or success in courses) based on their personal background, study habits, and extracurricular activities?"
   ]
  },
  {
   "cell_type": "markdown",
   "metadata": {},
   "source": [
    "* *   * * \n",
    "For this project, we decided to approach the topic in the following outline:\n",
    "\n",
    "#### A. **Exploratory Data Analysis**\n",
    "  - Create basic visualizations to observe any trends or patterns using Matplotlib or Tableau.\n",
    "  - Create some sort of interactivity with the graphs, most likely with a Tableau dashboard.\n",
    "\n",
    "#### B. **SQL Database**\n",
    "  - Populate a SQL database using the CSV file, then connect to the database in order to continue analysis.\n",
    "  - **Bonus:** Set up a SQL database server and connect to it via internet as opposed to a direct sqlite file.\n",
    "\n",
    "#### C. **Data Modeling**\n",
    "  - Create a relational data model, or a graph data model.\n",
    "  - Use supervised learning.\n",
    "  - Create a Logistic Regression model.\n",
    "\n",
    "#### D. **Model Optimization and Evaluation**\n",
    "  - Try using a different number of layers, activations, optimizers, and epochs to maximize the accuracy of our model.\n",
    "  - Try splitting the data to optimize the model.\n",
    "  - Try using the Adam algorithm with our model for further optimization.\n",
    "  - Evaluate the model's performance by creating a confusion matrix and/or a classification report.\n",
    "\n",
    "  "
   ]
  },
  {
   "cell_type": "markdown",
   "metadata": {},
   "source": [
    "### II. **Exploratory Data Analysis**\n",
    "* *   * * "
   ]
  },
  {
   "cell_type": "markdown",
   "metadata": {},
   "source": [
    "### III. **Database Design & Implementation**\n",
    "* *   * * "
   ]
  },
  {
   "cell_type": "markdown",
   "metadata": {},
   "source": [
    "The following is the ERDV diagram of our database.\n",
    "\n",
    "[insert ERDV here]"
   ]
  },
  {
   "cell_type": "markdown",
   "metadata": {},
   "source": [
    "There are X tables in total for this database:\n",
    "\n",
    "\n",
    "\n",
    "1. **Table Name Here**\n",
    "2. **Table Name Here**\n",
    "3. **Table Name Here**\n",
    "4. **Table Name Here**\n",
    "\n",
    "\n",
    "Each table holds information pertinent to the overarching question of student performance.\n",
    "\n",
    "The following is the breakdown for each table, including some reasons for choosing to keep the information we did.\n",
    "\n",
    "\n",
    "> **`Table1`**\n",
    "\n",
    "- textextextext\n",
    "- textextextext\n",
    "- textextextext\n",
    "\n",
    "> **`Table2`**\n",
    "\n",
    "- textextextext\n",
    "- textextextext\n",
    "- textextextext\n",
    "\n",
    "> **`Table3`**\n",
    "\n",
    "- textextextext\n",
    "- textextextext\n",
    "- textextextext\n",
    "\n",
    "> **`Table4`**\n",
    "\n",
    "- textextextext\n",
    "- textextextext\n",
    "- textextextext"
   ]
  },
  {
   "cell_type": "markdown",
   "metadata": {},
   "source": [
    "**(to be edited further)**"
   ]
  },
  {
   "cell_type": "code",
   "execution_count": null,
   "metadata": {},
   "outputs": [],
   "source": []
  },
  {
   "cell_type": "markdown",
   "metadata": {},
   "source": [
    "### IV. **Data Modeling**\n",
    "* *   * * "
   ]
  },
  {
   "cell_type": "markdown",
   "metadata": {},
   "source": [
    "##### **1. Data Preparation**\n",
    "\n",
    "\n",
    "**(to be edited further)**\n",
    "\n",
    "Before we could load the data into tables, we first had to clean the datasets given to us. This was done already in the Exploratory Data Analysis step, but we further eliminated any non-necessary agents in order to perform machine learning.\n",
    "\n",
    "textextextext.\n",
    "* *   * * "
   ]
  },
  {
   "cell_type": "markdown",
   "metadata": {},
   "source": [
    "##### **2. Creating the model**\n",
    "\n",
    "- Create a relational data model, or a graph data model.\n",
    "  - Use supervised learning."
   ]
  },
  {
   "cell_type": "code",
   "execution_count": 55,
   "metadata": {},
   "outputs": [],
   "source": [
    "import pandas as pd\n",
    "from pydantic import BaseModel\n",
    "from typing import List"
   ]
  },
  {
   "cell_type": "markdown",
   "metadata": {},
   "source": [
    "##### **3. Logistic Regression**\n",
    "\n",
    "  - Create a Logistic Regression model."
   ]
  },
  {
   "cell_type": "markdown",
   "metadata": {},
   "source": [
    "##### **4. Model Optimization and Evaluation**\n",
    "  - Try using a different number of layers, activations, optimizers, and epochs to maximize the accuracy of our model.\n",
    "  - Try splitting the data to optimize the model.\n",
    "  - Try using the Adam algorithm with our model for further optimization.\n",
    "  - Evaluate the model's performance by creating a confusion matrix and/or a classification report."
   ]
  }
 ],
 "metadata": {
  "kernelspec": {
   "display_name": "Python 3 (ipykernel)",
   "language": "python",
   "name": "python3"
  },
  "language_info": {
   "codemirror_mode": {
    "name": "ipython",
    "version": 3
   },
   "file_extension": ".py",
   "mimetype": "text/x-python",
   "name": "python",
   "nbconvert_exporter": "python",
   "pygments_lexer": "ipython3",
   "version": "3.10.13"
  },
  "vscode": {
   "interpreter": {
    "hash": "31f2aee4e71d21fbe5cf8b01ff0e069b9275f58929596ceb00d14d90e3e16cd6"
   }
  }
 },
 "nbformat": 4,
 "nbformat_minor": 4
}
